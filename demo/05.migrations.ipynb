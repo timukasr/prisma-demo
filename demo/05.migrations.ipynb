{
 "cells": [
  {
   "cell_type": "markdown",
   "id": "292e2fd4-83ab-4648-b388-fa6866f56eaf",
   "metadata": {},
   "source": [
    "# Migrations\n",
    "\n",
    "`prisma db push` good for development:\n",
    "\n",
    "* prototyping\n",
    "* does not keep intermediate changes\n",
    "* might cause data loss\n",
    "\n",
    "To persist changes, use `prisma migrate`\n",
    "\n",
    "* Creates new database with existing migrations (shadow database)\n",
    "* Applies current state of schema to development databse\n",
    "* Finds difference\n",
    "* Writes difference to file"
   ]
  },
  {
   "cell_type": "markdown",
   "id": "ac7e27ef-00a1-40e1-b9c3-a81cfa1695fd",
   "metadata": {},
   "source": [
    "Requires interactive environment:\n",
    "\n",
    "    \n",
    "`yarn prisma migrate dev --name init`"
   ]
  },
  {
   "cell_type": "markdown",
   "id": "a1cfefaa-3fa0-44c9-bf22-bfac68b3d399",
   "metadata": {},
   "source": [
    "## Make changes to schema"
   ]
  },
  {
   "cell_type": "code",
   "execution_count": 3,
   "id": "f185f60d-9c30-40e7-8952-2ac132b842f1",
   "metadata": {},
   "outputs": [
    {
     "name": "stdout",
     "output_type": "stream",
     "text": [
      "Overwriting prisma/schema.prisma\n"
     ]
    }
   ],
   "source": [
    "%%writefile prisma/schema.prisma\n",
    "// This is your Prisma schema file,\n",
    "// learn more about it in the docs: https://pris.ly/d/prisma-schema\n",
    "\n",
    "generator client {\n",
    "  provider = \"prisma-client-js\"\n",
    "}\n",
    "\n",
    "datasource db {\n",
    "  provider = \"mysql\"\n",
    "  url      = env(\"DATABASE_URL\")\n",
    "}\n",
    "\n",
    "model User {\n",
    "  id        Int      @id @default(autoincrement())\n",
    "  email     String   @unique\n",
    "  name      String?\n",
    "  active    Boolean  @default(true)\n",
    "  createdAt DateTime @default(now())\n",
    "  updatedAt DateTime @updatedAt\n",
    "  posts     Post[]\n",
    "  profile   Profile?\n",
    "}\n",
    "\n",
    "model Post {\n",
    "  id        Int      @id @default(autoincrement())\n",
    "  createdAt DateTime @default(now())\n",
    "  updatedAt DateTime @updatedAt\n",
    "  title     String   @db.VarChar(255)\n",
    "  content   String?\n",
    "  published Boolean  @default(false)\n",
    "  author    User     @relation(fields: [authorId], references: [id])\n",
    "  authorId  Int\n",
    "}\n",
    "\n",
    "model Profile {\n",
    "  id        Int      @id @default(autoincrement())\n",
    "  bio       String?\n",
    "  user      User     @relation(fields: [userId], references: [id])\n",
    "  updatedAt DateTime @updatedAt\n",
    "  userId    Int      @unique\n",
    "}\n"
   ]
  },
  {
   "cell_type": "markdown",
   "id": "aa53f4b7-c41d-4251-97a0-a1762fe3ac16",
   "metadata": {},
   "source": [
    "Create new migration"
   ]
  },
  {
   "cell_type": "code",
   "execution_count": 4,
   "id": "7afb100d-c5d9-45d3-af27-62765304a8ed",
   "metadata": {},
   "outputs": [
    {
     "name": "stdout",
     "output_type": "stream",
     "text": [
      "yarn run v1.22.17\n",
      "$ C:\\projects\\prisma-demo\\demo\\node_modules\\.bin\\prisma migrate dev --name profile-updatedAt\n",
      "Environment variables loaded from .env\n",
      "Prisma schema loaded from prisma\\schema.prisma\n",
      "Datasource \"db\": MySQL database \"prisma-demo\" at \"localhost:3306\"\n",
      "\n",
      "info Visit https://yarnpkg.com/en/docs/cli/run for documentation about this command.\n"
     ]
    },
    {
     "name": "stderr",
     "output_type": "stream",
     "text": [
      "Error: P3015\n",
      "\n",
      "Could not find the migration file at C:\\projects\\prisma-demo\\demo\\prisma\\migrations\\.ipynb_checkpoints\\migration.sql. Please delete the directory or restore the migration file.\n",
      "\n",
      "error Command failed with exit code 1.\n"
     ]
    }
   ],
   "source": [
    "!yarn prisma migrate dev --name profile-updatedAt"
   ]
  },
  {
   "cell_type": "code",
   "execution_count": null,
   "id": "1de1f71f-102f-486c-8552-c93dfc84c996",
   "metadata": {},
   "outputs": [],
   "source": []
  }
 ],
 "metadata": {
  "kernelspec": {
   "display_name": "Python 3",
   "language": "python",
   "name": "python3"
  },
  "language_info": {
   "codemirror_mode": {
    "name": "ipython",
    "version": 3
   },
   "file_extension": ".py",
   "mimetype": "text/x-python",
   "name": "python",
   "nbconvert_exporter": "python",
   "pygments_lexer": "ipython3",
   "version": "3.9.5"
  }
 },
 "nbformat": 4,
 "nbformat_minor": 5
}
