{
 "cells": [
  {
   "cell_type": "markdown",
   "id": "6e8617c0-f0de-4de8-8cd8-ac9566dd062d",
   "metadata": {
    "tags": []
   },
   "source": [
    "### Query your database"
   ]
  },
  {
   "cell_type": "code",
   "execution_count": null,
   "id": "feadf0fe-50cf-470d-93ee-3cea0f853bed",
   "metadata": {},
   "outputs": [],
   "source": [
    "import { PrismaClient } from \"@prisma/client\";\n",
    "\n",
    "const prisma = new PrismaClient();"
   ]
  },
  {
   "cell_type": "markdown",
   "id": "2c1d25e2-9d4e-4174-964a-6d0281873106",
   "metadata": {},
   "source": [
    "Query existing users"
   ]
  },
  {
   "cell_type": "code",
   "execution_count": null,
   "id": "c197fcda-9211-4ace-9449-3a9a88f01ff2",
   "metadata": {},
   "outputs": [],
   "source": [
    "await prisma.user.findMany();"
   ]
  },
  {
   "cell_type": "markdown",
   "id": "05b3fa42-a361-4d22-bc0d-02862fd9b209",
   "metadata": {
    "jp-MarkdownHeadingCollapsed": true,
    "tags": []
   },
   "source": [
    "### Add new users"
   ]
  },
  {
   "cell_type": "code",
   "execution_count": null,
   "id": "9615767f-704b-4fb8-9d96-7d76fcb53bb4",
   "metadata": {},
   "outputs": [],
   "source": [
    "await prisma.user.create({\n",
    "    data: {\n",
    "        name: \"Alice\",\n",
    "        email: \"alice@example.com\",\n",
    "    },\n",
    "} as any);"
   ]
  },
  {
   "cell_type": "code",
   "execution_count": null,
   "id": "0eeb6544-300e-4512-b521-b69ac10fde6e",
   "metadata": {},
   "outputs": [],
   "source": [
    "// query all users again\n",
    "await prisma.user.findMany();"
   ]
  },
  {
   "cell_type": "markdown",
   "id": "aaee7264-28ea-401b-aaab-d69fcf55be68",
   "metadata": {},
   "source": [
    "Add multiple users"
   ]
  },
  {
   "cell_type": "code",
   "execution_count": null,
   "id": "b79ac8ef-3633-41db-a88b-5c7e81bfc7a6",
   "metadata": {},
   "outputs": [],
   "source": [
    "await prisma.user.createMany({\n",
    "    data: [\n",
    "        {\n",
    "            name: \"Bob\",\n",
    "            email: \"bob@example.com\",\n",
    "        },\n",
    "        {\n",
    "            email: \"charlie@example.com\",\n",
    "        },\n",
    "        {\n",
    "            name: \"Dave\",\n",
    "            email: \"dave@example.com\",\n",
    "            active: false,\n",
    "        },\n",
    "    ],\n",
    "});"
   ]
  },
  {
   "cell_type": "markdown",
   "id": "9491c03a-7bda-4075-8e26-7f4c44fec718",
   "metadata": {
    "jp-MarkdownHeadingCollapsed": true,
    "tags": []
   },
   "source": [
    "### Query users"
   ]
  },
  {
   "cell_type": "code",
   "execution_count": null,
   "id": "d728ffe3-5dd7-41a0-a199-f4ff73cb6f1e",
   "metadata": {},
   "outputs": [],
   "source": [
    "// list all users\n",
    "await prisma.user.findMany({\n",
    "    select: {\n",
    "        name: true,\n",
    "        email: true,\n",
    "        active: true,\n",
    "    },\n",
    "});"
   ]
  },
  {
   "cell_type": "markdown",
   "id": "202a0fc9-c57a-415e-8211-8fe42e745468",
   "metadata": {},
   "source": [
    "Find `name` and `email` of all active users who have name"
   ]
  },
  {
   "cell_type": "code",
   "execution_count": null,
   "id": "34e5f956-c7b4-4011-9bee-9fd6260adfde",
   "metadata": {},
   "outputs": [],
   "source": [
    "await prisma.user.findMany({\n",
    "    select: {\n",
    "        name: true,\n",
    "        email: true,\n",
    "    },\n",
    "    where: {\n",
    "        active: true,\n",
    "        name: {\n",
    "            not: null,\n",
    "        },\n",
    "    },\n",
    "});"
   ]
  },
  {
   "cell_type": "markdown",
   "id": "b817c4d7-4481-4e59-89f8-358163fefb12",
   "metadata": {},
   "source": [
    "Find by ID or unique key"
   ]
  },
  {
   "cell_type": "code",
   "execution_count": null,
   "id": "90bad51a-5a6d-43e7-afb5-8894bdd17b1f",
   "metadata": {},
   "outputs": [],
   "source": [
    "await prisma.user.findUnique({\n",
    "    where: {\n",
    "        email: \"alice@example.com\",\n",
    "    },\n",
    "});"
   ]
  },
  {
   "cell_type": "markdown",
   "id": "d1bbd1c2-e805-4170-b0b9-a7a4c49d2a52",
   "metadata": {
    "jp-MarkdownHeadingCollapsed": true,
    "tags": []
   },
   "source": [
    "### Update users"
   ]
  },
  {
   "cell_type": "code",
   "execution_count": null,
   "id": "d4c8b98b-f20c-40e5-950d-e5ba1ebbc8fa",
   "metadata": {},
   "outputs": [],
   "source": [
    "await prisma.user.update({\n",
    "    where: {\n",
    "        email: \"charlie@example.com\"\n",
    "    },\n",
    "    data: {\n",
    "        name: \"Charlie\",\n",
    "    }\n",
    "} as any);"
   ]
  },
  {
   "cell_type": "markdown",
   "id": "63fd064d-c940-4b33-ba20-4380c69bca53",
   "metadata": {
    "jp-MarkdownHeadingCollapsed": true,
    "tags": []
   },
   "source": [
    "### Delete users"
   ]
  },
  {
   "cell_type": "code",
   "execution_count": null,
   "id": "6a9bb34c-6b76-4ccc-af54-3ec7041df77c",
   "metadata": {},
   "outputs": [],
   "source": [
    "await prisma.user.deleteMany({\n",
    "    where: {\n",
    "        active: false,\n",
    "    },\n",
    "});"
   ]
  },
  {
   "cell_type": "code",
   "execution_count": null,
   "id": "a6adc7dd-4244-42ae-8c22-92e4304d77ed",
   "metadata": {},
   "outputs": [],
   "source": [
    "await prisma.user.count();"
   ]
  },
  {
   "cell_type": "markdown",
   "id": "b33459e3-2c81-48fb-aeec-7743abda7fb1",
   "metadata": {},
   "source": [
    "Delete all users whose email does not start with letter \"a\""
   ]
  },
  {
   "cell_type": "code",
   "execution_count": null,
   "id": "a7bfab59-0b1a-4576-978b-088e3ce851b4",
   "metadata": {},
   "outputs": [],
   "source": [
    "await prisma.user.deleteMany({\n",
    "    where: {\n",
    "        email: {\n",
    "            not: {\n",
    "                startsWith: \"a\"\n",
    "            }\n",
    "        }\n",
    "    }\n",
    "});"
   ]
  },
  {
   "cell_type": "code",
   "execution_count": null,
   "id": "21620727-4cb1-43ad-bbde-775f3f4b58b8",
   "metadata": {},
   "outputs": [],
   "source": [
    "await prisma.user.count();"
   ]
  },
  {
   "cell_type": "code",
   "execution_count": null,
   "id": "61615bea-7783-41ab-9c8d-edd11e65a2ee",
   "metadata": {},
   "outputs": [],
   "source": []
  }
 ],
 "metadata": {
  "kernelspec": {
   "display_name": "TypeScript",
   "language": "typescript",
   "name": "tslab"
  },
  "language_info": {
   "codemirror_mode": {
    "mode": "typescript",
    "name": "javascript",
    "typescript": true
   },
   "file_extension": ".ts",
   "mimetype": "text/typescript",
   "name": "typescript",
   "version": "3.7.2"
  }
 },
 "nbformat": 4,
 "nbformat_minor": 5
}
