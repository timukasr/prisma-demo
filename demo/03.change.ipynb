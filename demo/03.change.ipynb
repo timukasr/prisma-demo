{
 "cells": [
  {
   "cell_type": "markdown",
   "id": "fb838213-184a-48ab-ad69-4f6b3fbcdc7b",
   "metadata": {},
   "source": [
    "# Making schema changes"
   ]
  },
  {
   "cell_type": "markdown",
   "id": "9aab3643-a02c-4477-94c5-22b041757fa5",
   "metadata": {},
   "source": [
    "Make changes in `prisma/schema.prisma` file"
   ]
  },
  {
   "cell_type": "code",
   "execution_count": 2,
   "id": "b5ffdaf3-b4a4-4dd2-820f-623529a89ebc",
   "metadata": {},
   "outputs": [
    {
     "name": "stdout",
     "output_type": "stream",
     "text": [
      "Overwriting prisma/schema.prisma\n"
     ]
    }
   ],
   "source": [
    "%%writefile prisma/schema.prisma\n",
    "// This is your Prisma schema file,\n",
    "// learn more about it in the docs: https://pris.ly/d/prisma-schema\n",
    "\n",
    "generator client {\n",
    "  provider = \"prisma-client-js\"\n",
    "}\n",
    "\n",
    "datasource db {\n",
    "  provider = \"mysql\"\n",
    "  url      = env(\"DATABASE_URL\")\n",
    "}\n",
    "\n",
    "model User {\n",
    "  id        Int      @id @default(autoincrement())\n",
    "  email     String   @unique\n",
    "  name      String?\n",
    "  active    Boolean  @default(true)\n",
    "  createdAt DateTime @default(now())\n",
    "  updatedAt DateTime @updatedAt\n",
    "  posts     Post[]\n",
    "  profile   Profile?\n",
    "}\n",
    "\n",
    "model Post {\n",
    "  id        Int      @id @default(autoincrement())\n",
    "  createdAt DateTime @default(now())\n",
    "  updatedAt DateTime @updatedAt\n",
    "  title     String   @db.VarChar(255)\n",
    "  content   String?\n",
    "  published Boolean  @default(false)\n",
    "  author    User     @relation(fields: [authorId], references: [id])\n",
    "  authorId  Int\n",
    "}\n",
    "\n",
    "model Profile {\n",
    "  id     Int     @id @default(autoincrement())\n",
    "  bio    String?\n",
    "  user   User    @relation(fields: [userId], references: [id])\n",
    "  userId Int     @unique\n",
    "}\n"
   ]
  },
  {
   "cell_type": "markdown",
   "id": "1a416e63-e055-4921-8e7f-3551591d6a64",
   "metadata": {},
   "source": [
    "Push changes to DB"
   ]
  },
  {
   "cell_type": "code",
   "execution_count": 4,
   "id": "f185e99a-7a63-40b5-95d0-b2777c22bef9",
   "metadata": {},
   "outputs": [
    {
     "name": "stdout",
     "output_type": "stream",
     "text": [
      "yarn run v1.22.17\n",
      "$ C:\\projects\\prisma-demo\\demo\\node_modules\\.bin\\prisma db push\n",
      "Environment variables loaded from .env\n",
      "Prisma schema loaded from prisma\\schema.prisma\n",
      "Datasource \"db\": MySQL database \"prisma-demo\" at \"localhost:3306\"\n",
      "\n",
      "The database is already in sync with the Prisma schema.\n",
      "\n",
      "Running generate... (Use --skip-generate to skip the generators)\n",
      "\u001b[2K\u001b[1A\u001b[2K\u001b[GRunning generate... - Prisma Client\n",
      "\u001b[2K\u001b[1A\u001b[2K\u001b[Gâœ” Generated Prisma Client (4.4.0 | library) to .\\node_modules\\@prisma\\client in \n",
      "70ms\n",
      "\n",
      "Done in 1.88s.\n"
     ]
    }
   ],
   "source": [
    "!yarn prisma db push"
   ]
  },
  {
   "cell_type": "code",
   "execution_count": null,
   "id": "9c978c48-7910-49ff-bab8-1278e69ac882",
   "metadata": {},
   "outputs": [],
   "source": []
  }
 ],
 "metadata": {
  "kernelspec": {
   "display_name": "Python 3",
   "language": "python",
   "name": "python3"
  },
  "language_info": {
   "codemirror_mode": {
    "name": "ipython",
    "version": 3
   },
   "file_extension": ".py",
   "mimetype": "text/x-python",
   "name": "python",
   "nbconvert_exporter": "python",
   "pygments_lexer": "ipython3",
   "version": "3.9.5"
  }
 },
 "nbformat": 4,
 "nbformat_minor": 5
}
