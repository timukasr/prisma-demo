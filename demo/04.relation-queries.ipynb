{
 "cells": [
  {
   "cell_type": "markdown",
   "id": "a8a4f610-c60a-45db-851d-afb8a0309972",
   "metadata": {},
   "source": [
    "# Relations"
   ]
  },
  {
   "cell_type": "code",
   "execution_count": null,
   "id": "bd193dea-8d8a-4d5a-8349-55f4db51e998",
   "metadata": {},
   "outputs": [],
   "source": [
    "import { PrismaClient } from \"@prisma/client\";\n",
    "\n",
    "const prisma = new PrismaClient();"
   ]
  },
  {
   "cell_type": "markdown",
   "id": "4c349470-40bb-4783-b14d-d1810593563d",
   "metadata": {
    "jp-MarkdownHeadingCollapsed": true,
    "tags": []
   },
   "source": [
    "## Create"
   ]
  },
  {
   "cell_type": "code",
   "execution_count": null,
   "id": "f7ad3586-1561-4fbe-8640-5283ba6ac721",
   "metadata": {},
   "outputs": [],
   "source": [
    "await prisma.user.create({\n",
    "    data: {\n",
    "        name: 'Bob',\n",
    "        email: 'bob@prisma.io',\n",
    "        posts: {\n",
    "            create: { title: 'Hello World' },\n",
    "        },\n",
    "        profile: {\n",
    "            create: { bio: 'I like turtles' },\n",
    "        },\n",
    "    },\n",
    "});"
   ]
  },
  {
   "cell_type": "code",
   "execution_count": null,
   "id": "b6f33fb8-5450-4095-993b-7b1a0e63f3d2",
   "metadata": {},
   "outputs": [],
   "source": [
    "await prisma.user.findMany({\n",
    "    include: {\n",
    "        posts: true,\n",
    "        profile: true,\n",
    "    },\n",
    "});"
   ]
  },
  {
   "cell_type": "markdown",
   "id": "6231cbbc-276c-4343-b18a-c6412be52035",
   "metadata": {},
   "source": [
    "Add post to existing user"
   ]
  },
  {
   "cell_type": "code",
   "execution_count": null,
   "id": "3d8c5c5d-8948-4bf4-941a-36c1932134d0",
   "metadata": {},
   "outputs": [],
   "source": [
    "await prisma.user.update({\n",
    "    where: {\n",
    "        email: \"bob@prisma.io\",\n",
    "    },\n",
    "    data: {\n",
    "        posts: {\n",
    "            create: {\n",
    "                title: \"My second post\",\n",
    "                published: true\n",
    "            },\n",
    "        },\n",
    "    },\n",
    "});"
   ]
  },
  {
   "cell_type": "code",
   "execution_count": null,
   "id": "bda29216-2ec4-4444-9383-98dcb141556e",
   "metadata": {},
   "outputs": [],
   "source": [
    "await prisma.post.create({\n",
    "    data: {\n",
    "        title: \"Third post\",\n",
    "        content: \"Content of my post\",\n",
    "        published: true,\n",
    "        author: {\n",
    "            connect: {\n",
    "                email: \"bob@prisma.io\",\n",
    "            },\n",
    "        },\n",
    "    },\n",
    "});"
   ]
  },
  {
   "cell_type": "markdown",
   "id": "6261fbd1-7524-4832-bafb-e7541294facc",
   "metadata": {
    "jp-MarkdownHeadingCollapsed": true,
    "tags": []
   },
   "source": [
    "## Query relations"
   ]
  },
  {
   "cell_type": "markdown",
   "id": "313f514a-842f-4699-9cac-49e324c22c4d",
   "metadata": {},
   "source": [
    "Users with their profile"
   ]
  },
  {
   "cell_type": "code",
   "execution_count": null,
   "id": "5c1a69e0-1584-43d6-bba7-e38e21aa3390",
   "metadata": {},
   "outputs": [],
   "source": [
    "await prisma.user.findMany({\n",
    "    select: {\n",
    "        name: true,\n",
    "        email: true,\n",
    "        profile: {\n",
    "            select: {\n",
    "                bio: true\n",
    "            }\n",
    "        }\n",
    "    }\n",
    "})"
   ]
  },
  {
   "cell_type": "markdown",
   "id": "a0844d48-edf0-4fee-9005-55a844a12a23",
   "metadata": {},
   "source": [
    "Users who have published posts"
   ]
  },
  {
   "cell_type": "code",
   "execution_count": null,
   "id": "25b97bdc-eefd-4cd6-9c24-63048ee622c7",
   "metadata": {},
   "outputs": [],
   "source": [
    "await prisma.user.findMany({\n",
    "    select: {\n",
    "        name: true,\n",
    "        email: true,\n",
    "    },\n",
    "    where: {\n",
    "        posts: {\n",
    "            some: {\n",
    "                published: true\n",
    "            }\n",
    "        }\n",
    "    }\n",
    "})"
   ]
  },
  {
   "cell_type": "markdown",
   "id": "a1899bb8-c261-484e-9133-ea938959ee56",
   "metadata": {},
   "source": [
    "Bob with all of his published posts"
   ]
  },
  {
   "cell_type": "code",
   "execution_count": null,
   "id": "dfe2d8a3-4e56-4c0c-a369-2ab86a6b0239",
   "metadata": {},
   "outputs": [],
   "source": [
    "await prisma.user.findUnique({\n",
    "    where: {\n",
    "        email: 'bob@prisma.io'\n",
    "    },\n",
    "    select: {\n",
    "        name: true,\n",
    "        email: true,\n",
    "        posts: {\n",
    "            select: {\n",
    "                title: true,\n",
    "            },\n",
    "            where: {\n",
    "                published: true\n",
    "            }\n",
    "        }\n",
    "    },\n",
    "})"
   ]
  },
  {
   "cell_type": "markdown",
   "id": "e6ca16e2-dc18-43bb-a2dd-8f8a98853680",
   "metadata": {
    "jp-MarkdownHeadingCollapsed": true,
    "tags": []
   },
   "source": [
    "## Change related records"
   ]
  },
  {
   "cell_type": "markdown",
   "id": "bf55ddd1-2691-4430-9361-0bbdbc83c8f3",
   "metadata": {},
   "source": [
    "Mark bob as inactive and mark all his posts as unpublished.\n",
    "\n",
    "Return Bob, with his `active` status and status of his posts"
   ]
  },
  {
   "cell_type": "code",
   "execution_count": null,
   "id": "81ef0278-5f19-4f5b-99d5-4d45696aedd3",
   "metadata": {},
   "outputs": [],
   "source": [
    "await prisma.user.update({\n",
    "    select: {\n",
    "        name: true,\n",
    "        active: true,\n",
    "        posts: {\n",
    "            select: {\n",
    "                published: true\n",
    "            }\n",
    "        }\n",
    "    },\n",
    "    where: {\n",
    "        email: \"bob@prisma.io\"\n",
    "    },\n",
    "    data: {\n",
    "        active: false,\n",
    "        posts: {\n",
    "            updateMany: {\n",
    "                where: {},\n",
    "                data: {\n",
    "                    published: false\n",
    "                }\n",
    "            }\n",
    "        }\n",
    "    }\n",
    "})"
   ]
  },
  {
   "cell_type": "markdown",
   "id": "0cb44350-69bf-45e2-bd97-38dded3dbefd",
   "metadata": {
    "jp-MarkdownHeadingCollapsed": true,
    "tags": []
   },
   "source": [
    "## Delete related record"
   ]
  },
  {
   "cell_type": "markdown",
   "id": "73606bb4-f771-4ac5-bbd2-f8ca14890243",
   "metadata": {},
   "source": [
    "Delete all of Bob's unpublished posts.\n",
    "\n",
    "Return Bob with all of his posts."
   ]
  },
  {
   "cell_type": "code",
   "execution_count": null,
   "id": "65a9e88c-259d-479f-8edf-9291b2391d9c",
   "metadata": {},
   "outputs": [],
   "source": [
    "await prisma.user.update({\n",
    "    include: {\n",
    "        posts: true\n",
    "    },\n",
    "    where: {\n",
    "        email: \"bob@prisma.io\"\n",
    "    },\n",
    "    data: {\n",
    "        posts: {\n",
    "            deleteMany: {\n",
    "                published: false,\n",
    "            },\n",
    "        },\n",
    "    },\n",
    "})"
   ]
  },
  {
   "cell_type": "code",
   "execution_count": null,
   "id": "26131a80-8c92-4ad3-b83e-5df2c74ca940",
   "metadata": {},
   "outputs": [],
   "source": []
  }
 ],
 "metadata": {
  "kernelspec": {
   "display_name": "TypeScript",
   "language": "typescript",
   "name": "tslab"
  },
  "language_info": {
   "codemirror_mode": {
    "mode": "typescript",
    "name": "javascript",
    "typescript": true
   },
   "file_extension": ".ts",
   "mimetype": "text/typescript",
   "name": "typescript",
   "version": "3.7.2"
  }
 },
 "nbformat": 4,
 "nbformat_minor": 5
}
